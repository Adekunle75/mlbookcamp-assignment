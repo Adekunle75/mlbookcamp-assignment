{
 "cells": [
  {
   "cell_type": "code",
   "execution_count": 1,
   "id": "406559da-da2c-4906-894a-3817c45118e9",
   "metadata": {},
   "outputs": [],
   "source": [
    "import pandas as pd"
   ]
  },
  {
   "cell_type": "code",
   "execution_count": 2,
   "id": "f7ef7851-0f86-4981-a61a-39a622f9428a",
   "metadata": {},
   "outputs": [],
   "source": [
    "import numpy as np"
   ]
  },
  {
   "cell_type": "code",
   "execution_count": 3,
   "id": "f967e177-327b-4d7d-9721-817048bbac23",
   "metadata": {},
   "outputs": [
    {
     "data": {
      "text/plain": [
       "'2.1.4'"
      ]
     },
     "execution_count": 3,
     "metadata": {},
     "output_type": "execute_result"
    }
   ],
   "source": [
    "pd.__version__ #pandas version\n"
   ]
  },
  {
   "cell_type": "code",
   "execution_count": 4,
   "id": "cfd75f19-9187-4e07-88b9-528deace4144",
   "metadata": {},
   "outputs": [],
   "source": [
    "df = pd.read_csv('https://raw.githubusercontent.com/alexeygrigorev/datasets/master/car_fuel_efficiency.csv') \n",
    "#read data in pandas"
   ]
  },
  {
   "cell_type": "code",
   "execution_count": 5,
   "id": "2197a229-5d53-4ce9-b5eb-19981fe04ce1",
   "metadata": {},
   "outputs": [
    {
     "data": {
      "text/html": [
       "<div>\n",
       "<style scoped>\n",
       "    .dataframe tbody tr th:only-of-type {\n",
       "        vertical-align: middle;\n",
       "    }\n",
       "\n",
       "    .dataframe tbody tr th {\n",
       "        vertical-align: top;\n",
       "    }\n",
       "\n",
       "    .dataframe thead th {\n",
       "        text-align: right;\n",
       "    }\n",
       "</style>\n",
       "<table border=\"1\" class=\"dataframe\">\n",
       "  <thead>\n",
       "    <tr style=\"text-align: right;\">\n",
       "      <th></th>\n",
       "      <th>engine_displacement</th>\n",
       "      <th>num_cylinders</th>\n",
       "      <th>horsepower</th>\n",
       "      <th>vehicle_weight</th>\n",
       "      <th>acceleration</th>\n",
       "      <th>model_year</th>\n",
       "      <th>origin</th>\n",
       "      <th>fuel_type</th>\n",
       "      <th>drivetrain</th>\n",
       "      <th>num_doors</th>\n",
       "      <th>fuel_efficiency_mpg</th>\n",
       "    </tr>\n",
       "  </thead>\n",
       "  <tbody>\n",
       "    <tr>\n",
       "      <th>0</th>\n",
       "      <td>170</td>\n",
       "      <td>3.0</td>\n",
       "      <td>159.0</td>\n",
       "      <td>3413.433759</td>\n",
       "      <td>17.7</td>\n",
       "      <td>2003</td>\n",
       "      <td>Europe</td>\n",
       "      <td>Gasoline</td>\n",
       "      <td>All-wheel drive</td>\n",
       "      <td>0.0</td>\n",
       "      <td>13.231729</td>\n",
       "    </tr>\n",
       "    <tr>\n",
       "      <th>1</th>\n",
       "      <td>130</td>\n",
       "      <td>5.0</td>\n",
       "      <td>97.0</td>\n",
       "      <td>3149.664934</td>\n",
       "      <td>17.8</td>\n",
       "      <td>2007</td>\n",
       "      <td>USA</td>\n",
       "      <td>Gasoline</td>\n",
       "      <td>Front-wheel drive</td>\n",
       "      <td>0.0</td>\n",
       "      <td>13.688217</td>\n",
       "    </tr>\n",
       "    <tr>\n",
       "      <th>2</th>\n",
       "      <td>170</td>\n",
       "      <td>NaN</td>\n",
       "      <td>78.0</td>\n",
       "      <td>3079.038997</td>\n",
       "      <td>15.1</td>\n",
       "      <td>2018</td>\n",
       "      <td>Europe</td>\n",
       "      <td>Gasoline</td>\n",
       "      <td>Front-wheel drive</td>\n",
       "      <td>0.0</td>\n",
       "      <td>14.246341</td>\n",
       "    </tr>\n",
       "    <tr>\n",
       "      <th>3</th>\n",
       "      <td>220</td>\n",
       "      <td>4.0</td>\n",
       "      <td>NaN</td>\n",
       "      <td>2542.392402</td>\n",
       "      <td>20.2</td>\n",
       "      <td>2009</td>\n",
       "      <td>USA</td>\n",
       "      <td>Diesel</td>\n",
       "      <td>All-wheel drive</td>\n",
       "      <td>2.0</td>\n",
       "      <td>16.912736</td>\n",
       "    </tr>\n",
       "    <tr>\n",
       "      <th>4</th>\n",
       "      <td>210</td>\n",
       "      <td>1.0</td>\n",
       "      <td>140.0</td>\n",
       "      <td>3460.870990</td>\n",
       "      <td>14.4</td>\n",
       "      <td>2009</td>\n",
       "      <td>Europe</td>\n",
       "      <td>Gasoline</td>\n",
       "      <td>All-wheel drive</td>\n",
       "      <td>2.0</td>\n",
       "      <td>12.488369</td>\n",
       "    </tr>\n",
       "  </tbody>\n",
       "</table>\n",
       "</div>"
      ],
      "text/plain": [
       "   engine_displacement  num_cylinders  horsepower  vehicle_weight  \\\n",
       "0                  170            3.0       159.0     3413.433759   \n",
       "1                  130            5.0        97.0     3149.664934   \n",
       "2                  170            NaN        78.0     3079.038997   \n",
       "3                  220            4.0         NaN     2542.392402   \n",
       "4                  210            1.0       140.0     3460.870990   \n",
       "\n",
       "   acceleration  model_year  origin fuel_type         drivetrain  num_doors  \\\n",
       "0          17.7        2003  Europe  Gasoline    All-wheel drive        0.0   \n",
       "1          17.8        2007     USA  Gasoline  Front-wheel drive        0.0   \n",
       "2          15.1        2018  Europe  Gasoline  Front-wheel drive        0.0   \n",
       "3          20.2        2009     USA    Diesel    All-wheel drive        2.0   \n",
       "4          14.4        2009  Europe  Gasoline    All-wheel drive        2.0   \n",
       "\n",
       "   fuel_efficiency_mpg  \n",
       "0            13.231729  \n",
       "1            13.688217  \n",
       "2            14.246341  \n",
       "3            16.912736  \n",
       "4            12.488369  "
      ]
     },
     "execution_count": 5,
     "metadata": {},
     "output_type": "execute_result"
    }
   ],
   "source": [
    "df.head() #review of data"
   ]
  },
  {
   "cell_type": "code",
   "execution_count": 6,
   "id": "2b328214-35b0-49b7-aa6e-637c1340dd9a",
   "metadata": {},
   "outputs": [
    {
     "name": "stdout",
     "output_type": "stream",
     "text": [
      "<class 'pandas.core.frame.DataFrame'>\n",
      "RangeIndex: 9704 entries, 0 to 9703\n",
      "Data columns (total 11 columns):\n",
      " #   Column               Non-Null Count  Dtype  \n",
      "---  ------               --------------  -----  \n",
      " 0   engine_displacement  9704 non-null   int64  \n",
      " 1   num_cylinders        9222 non-null   float64\n",
      " 2   horsepower           8996 non-null   float64\n",
      " 3   vehicle_weight       9704 non-null   float64\n",
      " 4   acceleration         8774 non-null   float64\n",
      " 5   model_year           9704 non-null   int64  \n",
      " 6   origin               9704 non-null   object \n",
      " 7   fuel_type            9704 non-null   object \n",
      " 8   drivetrain           9704 non-null   object \n",
      " 9   num_doors            9202 non-null   float64\n",
      " 10  fuel_efficiency_mpg  9704 non-null   float64\n",
      "dtypes: float64(6), int64(2), object(3)\n",
      "memory usage: 834.1+ KB\n"
     ]
    }
   ],
   "source": [
    "df.info() #count of data record as well as columns with missing values"
   ]
  },
  {
   "cell_type": "code",
   "execution_count": 7,
   "id": "f02e12bf-e4ba-42c2-95ce-fa118e617e39",
   "metadata": {},
   "outputs": [
    {
     "data": {
      "text/plain": [
       "array(['Gasoline', 'Diesel'], dtype=object)"
      ]
     },
     "execution_count": 7,
     "metadata": {},
     "output_type": "execute_result"
    }
   ],
   "source": [
    "df['fuel_type'].unique() #fuel types"
   ]
  },
  {
   "cell_type": "code",
   "execution_count": 8,
   "id": "141608a3-60c1-4aa6-b43a-489a630937dc",
   "metadata": {},
   "outputs": [
    {
     "data": {
      "text/plain": [
       "array(['Europe', 'USA', 'Asia'], dtype=object)"
      ]
     },
     "execution_count": 8,
     "metadata": {},
     "output_type": "execute_result"
    }
   ],
   "source": [
    "df['origin'].unique()"
   ]
  },
  {
   "cell_type": "code",
   "execution_count": 9,
   "id": "4e1e11ff-de51-4cb8-9df3-29222c7a10ef",
   "metadata": {},
   "outputs": [
    {
     "data": {
      "text/html": [
       "<div>\n",
       "<style scoped>\n",
       "    .dataframe tbody tr th:only-of-type {\n",
       "        vertical-align: middle;\n",
       "    }\n",
       "\n",
       "    .dataframe tbody tr th {\n",
       "        vertical-align: top;\n",
       "    }\n",
       "\n",
       "    .dataframe thead th {\n",
       "        text-align: right;\n",
       "    }\n",
       "</style>\n",
       "<table border=\"1\" class=\"dataframe\">\n",
       "  <thead>\n",
       "    <tr style=\"text-align: right;\">\n",
       "      <th></th>\n",
       "      <th>engine_displacement</th>\n",
       "      <th>num_cylinders</th>\n",
       "      <th>horsepower</th>\n",
       "      <th>vehicle_weight</th>\n",
       "      <th>acceleration</th>\n",
       "      <th>model_year</th>\n",
       "      <th>origin</th>\n",
       "      <th>fuel_type</th>\n",
       "      <th>drivetrain</th>\n",
       "      <th>num_doors</th>\n",
       "      <th>fuel_efficiency_mpg</th>\n",
       "    </tr>\n",
       "  </thead>\n",
       "  <tbody>\n",
       "    <tr>\n",
       "      <th>8</th>\n",
       "      <td>250</td>\n",
       "      <td>1.0</td>\n",
       "      <td>174.0</td>\n",
       "      <td>2714.219310</td>\n",
       "      <td>10.3</td>\n",
       "      <td>2016</td>\n",
       "      <td>Asia</td>\n",
       "      <td>Diesel</td>\n",
       "      <td>Front-wheel drive</td>\n",
       "      <td>-1.0</td>\n",
       "      <td>16.823554</td>\n",
       "    </tr>\n",
       "    <tr>\n",
       "      <th>12</th>\n",
       "      <td>320</td>\n",
       "      <td>5.0</td>\n",
       "      <td>145.0</td>\n",
       "      <td>2783.868974</td>\n",
       "      <td>15.1</td>\n",
       "      <td>2010</td>\n",
       "      <td>Asia</td>\n",
       "      <td>Diesel</td>\n",
       "      <td>All-wheel drive</td>\n",
       "      <td>1.0</td>\n",
       "      <td>16.175820</td>\n",
       "    </tr>\n",
       "    <tr>\n",
       "      <th>14</th>\n",
       "      <td>200</td>\n",
       "      <td>6.0</td>\n",
       "      <td>160.0</td>\n",
       "      <td>3582.687368</td>\n",
       "      <td>14.9</td>\n",
       "      <td>2007</td>\n",
       "      <td>Asia</td>\n",
       "      <td>Diesel</td>\n",
       "      <td>All-wheel drive</td>\n",
       "      <td>0.0</td>\n",
       "      <td>11.871091</td>\n",
       "    </tr>\n",
       "    <tr>\n",
       "      <th>20</th>\n",
       "      <td>150</td>\n",
       "      <td>3.0</td>\n",
       "      <td>197.0</td>\n",
       "      <td>2231.808142</td>\n",
       "      <td>18.7</td>\n",
       "      <td>2011</td>\n",
       "      <td>Asia</td>\n",
       "      <td>Gasoline</td>\n",
       "      <td>Front-wheel drive</td>\n",
       "      <td>1.0</td>\n",
       "      <td>18.889083</td>\n",
       "    </tr>\n",
       "    <tr>\n",
       "      <th>21</th>\n",
       "      <td>160</td>\n",
       "      <td>4.0</td>\n",
       "      <td>133.0</td>\n",
       "      <td>2659.431451</td>\n",
       "      <td>NaN</td>\n",
       "      <td>2016</td>\n",
       "      <td>Asia</td>\n",
       "      <td>Gasoline</td>\n",
       "      <td>Front-wheel drive</td>\n",
       "      <td>-1.0</td>\n",
       "      <td>16.077730</td>\n",
       "    </tr>\n",
       "    <tr>\n",
       "      <th>...</th>\n",
       "      <td>...</td>\n",
       "      <td>...</td>\n",
       "      <td>...</td>\n",
       "      <td>...</td>\n",
       "      <td>...</td>\n",
       "      <td>...</td>\n",
       "      <td>...</td>\n",
       "      <td>...</td>\n",
       "      <td>...</td>\n",
       "      <td>...</td>\n",
       "      <td>...</td>\n",
       "    </tr>\n",
       "    <tr>\n",
       "      <th>9688</th>\n",
       "      <td>260</td>\n",
       "      <td>4.0</td>\n",
       "      <td>NaN</td>\n",
       "      <td>3948.404625</td>\n",
       "      <td>15.5</td>\n",
       "      <td>2018</td>\n",
       "      <td>Asia</td>\n",
       "      <td>Diesel</td>\n",
       "      <td>All-wheel drive</td>\n",
       "      <td>-1.0</td>\n",
       "      <td>11.054830</td>\n",
       "    </tr>\n",
       "    <tr>\n",
       "      <th>9692</th>\n",
       "      <td>180</td>\n",
       "      <td>3.0</td>\n",
       "      <td>188.0</td>\n",
       "      <td>3680.341381</td>\n",
       "      <td>18.0</td>\n",
       "      <td>2016</td>\n",
       "      <td>Asia</td>\n",
       "      <td>Gasoline</td>\n",
       "      <td>Front-wheel drive</td>\n",
       "      <td>1.0</td>\n",
       "      <td>11.711653</td>\n",
       "    </tr>\n",
       "    <tr>\n",
       "      <th>9693</th>\n",
       "      <td>280</td>\n",
       "      <td>2.0</td>\n",
       "      <td>148.0</td>\n",
       "      <td>2545.070139</td>\n",
       "      <td>15.6</td>\n",
       "      <td>2012</td>\n",
       "      <td>Asia</td>\n",
       "      <td>Diesel</td>\n",
       "      <td>All-wheel drive</td>\n",
       "      <td>0.0</td>\n",
       "      <td>17.202782</td>\n",
       "    </tr>\n",
       "    <tr>\n",
       "      <th>9698</th>\n",
       "      <td>180</td>\n",
       "      <td>1.0</td>\n",
       "      <td>131.0</td>\n",
       "      <td>3107.427820</td>\n",
       "      <td>13.2</td>\n",
       "      <td>2005</td>\n",
       "      <td>Asia</td>\n",
       "      <td>Gasoline</td>\n",
       "      <td>Front-wheel drive</td>\n",
       "      <td>-2.0</td>\n",
       "      <td>13.933716</td>\n",
       "    </tr>\n",
       "    <tr>\n",
       "      <th>9703</th>\n",
       "      <td>270</td>\n",
       "      <td>3.0</td>\n",
       "      <td>140.0</td>\n",
       "      <td>2908.043477</td>\n",
       "      <td>14.7</td>\n",
       "      <td>2005</td>\n",
       "      <td>Asia</td>\n",
       "      <td>Diesel</td>\n",
       "      <td>All-wheel drive</td>\n",
       "      <td>-1.0</td>\n",
       "      <td>14.884467</td>\n",
       "    </tr>\n",
       "  </tbody>\n",
       "</table>\n",
       "<p>3247 rows × 11 columns</p>\n",
       "</div>"
      ],
      "text/plain": [
       "      engine_displacement  num_cylinders  horsepower  vehicle_weight  \\\n",
       "8                     250            1.0       174.0     2714.219310   \n",
       "12                    320            5.0       145.0     2783.868974   \n",
       "14                    200            6.0       160.0     3582.687368   \n",
       "20                    150            3.0       197.0     2231.808142   \n",
       "21                    160            4.0       133.0     2659.431451   \n",
       "...                   ...            ...         ...             ...   \n",
       "9688                  260            4.0         NaN     3948.404625   \n",
       "9692                  180            3.0       188.0     3680.341381   \n",
       "9693                  280            2.0       148.0     2545.070139   \n",
       "9698                  180            1.0       131.0     3107.427820   \n",
       "9703                  270            3.0       140.0     2908.043477   \n",
       "\n",
       "      acceleration  model_year origin fuel_type         drivetrain  num_doors  \\\n",
       "8             10.3        2016   Asia    Diesel  Front-wheel drive       -1.0   \n",
       "12            15.1        2010   Asia    Diesel    All-wheel drive        1.0   \n",
       "14            14.9        2007   Asia    Diesel    All-wheel drive        0.0   \n",
       "20            18.7        2011   Asia  Gasoline  Front-wheel drive        1.0   \n",
       "21             NaN        2016   Asia  Gasoline  Front-wheel drive       -1.0   \n",
       "...            ...         ...    ...       ...                ...        ...   \n",
       "9688          15.5        2018   Asia    Diesel    All-wheel drive       -1.0   \n",
       "9692          18.0        2016   Asia  Gasoline  Front-wheel drive        1.0   \n",
       "9693          15.6        2012   Asia    Diesel    All-wheel drive        0.0   \n",
       "9698          13.2        2005   Asia  Gasoline  Front-wheel drive       -2.0   \n",
       "9703          14.7        2005   Asia    Diesel    All-wheel drive       -1.0   \n",
       "\n",
       "      fuel_efficiency_mpg  \n",
       "8               16.823554  \n",
       "12              16.175820  \n",
       "14              11.871091  \n",
       "20              18.889083  \n",
       "21              16.077730  \n",
       "...                   ...  \n",
       "9688            11.054830  \n",
       "9692            11.711653  \n",
       "9693            17.202782  \n",
       "9698            13.933716  \n",
       "9703            14.884467  \n",
       "\n",
       "[3247 rows x 11 columns]"
      ]
     },
     "execution_count": 9,
     "metadata": {},
     "output_type": "execute_result"
    }
   ],
   "source": [
    "df_asia =df[df['origin'] == 'Asia']\n",
    "\n",
    "df_asia #asia subset"
   ]
  },
  {
   "cell_type": "code",
   "execution_count": 10,
   "id": "e0b351f4-d8a0-4c1c-b7d9-9b3ba7eacc28",
   "metadata": {},
   "outputs": [
    {
     "data": {
      "text/plain": [
       "23.759122836520497"
      ]
     },
     "execution_count": 10,
     "metadata": {},
     "output_type": "execute_result"
    }
   ],
   "source": [
    "df_asia['fuel_efficiency_mpg'].max() #fuel efficiency for asia"
   ]
  },
  {
   "cell_type": "code",
   "execution_count": 11,
   "id": "ddbdbe78-1813-4f6c-8f84-f56771f099f4",
   "metadata": {},
   "outputs": [
    {
     "data": {
      "text/plain": [
       "149.0"
      ]
     },
     "execution_count": 11,
     "metadata": {},
     "output_type": "execute_result"
    }
   ],
   "source": [
    "df['horsepower'].median() #initial median for horsepower"
   ]
  },
  {
   "cell_type": "code",
   "execution_count": 12,
   "id": "a5ca09cb-2eed-4688-9373-a01bb6c0bc8f",
   "metadata": {},
   "outputs": [
    {
     "data": {
      "text/plain": [
       "142"
      ]
     },
     "execution_count": 12,
     "metadata": {},
     "output_type": "execute_result"
    }
   ],
   "source": [
    "df['horsepower'].value_counts().max() #most reoccuring horsepower"
   ]
  },
  {
   "cell_type": "code",
   "execution_count": 13,
   "id": "885c2f50-9162-40bd-acbd-fa00a0513fc0",
   "metadata": {},
   "outputs": [],
   "source": [
    "df2 = df.fillna(df['horsepower'].value_counts().max())"
   ]
  },
  {
   "cell_type": "code",
   "execution_count": 14,
   "id": "a4f28d60-c5ca-4f6d-8365-dc3c69c1037c",
   "metadata": {},
   "outputs": [
    {
     "name": "stdout",
     "output_type": "stream",
     "text": [
      "<class 'pandas.core.series.Series'>\n",
      "RangeIndex: 9704 entries, 0 to 9703\n",
      "Series name: horsepower\n",
      "Non-Null Count  Dtype  \n",
      "--------------  -----  \n",
      "9704 non-null   float64\n",
      "dtypes: float64(1)\n",
      "memory usage: 75.9 KB\n"
     ]
    }
   ],
   "source": [
    "df2['horsepower'].info()"
   ]
  },
  {
   "cell_type": "code",
   "execution_count": 15,
   "id": "639a5912-d867-4eb8-8f60-e300272e4eb6",
   "metadata": {},
   "outputs": [
    {
     "data": {
      "text/plain": [
       "146.0"
      ]
     },
     "execution_count": 15,
     "metadata": {},
     "output_type": "execute_result"
    }
   ],
   "source": [
    "df2['horsepower'].median() #final median for horsepower"
   ]
  },
  {
   "cell_type": "code",
   "execution_count": 16,
   "id": "8fa8c2e3-bc37-442b-be45-8654e701b5a9",
   "metadata": {},
   "outputs": [],
   "source": [
    "df_asia2 = df_asia[['vehicle_weight','model_year']]"
   ]
  },
  {
   "cell_type": "code",
   "execution_count": 17,
   "id": "f8e97d4e-082d-490e-8dd1-9a73d117b03c",
   "metadata": {},
   "outputs": [
    {
     "name": "stdout",
     "output_type": "stream",
     "text": [
      "<class 'pandas.core.frame.DataFrame'>\n",
      "Index: 3247 entries, 8 to 9703\n",
      "Data columns (total 2 columns):\n",
      " #   Column          Non-Null Count  Dtype  \n",
      "---  ------          --------------  -----  \n",
      " 0   vehicle_weight  3247 non-null   float64\n",
      " 1   model_year      3247 non-null   int64  \n",
      "dtypes: float64(1), int64(1)\n",
      "memory usage: 76.1 KB\n"
     ]
    }
   ],
   "source": [
    "df_asia2.info()"
   ]
  },
  {
   "cell_type": "code",
   "execution_count": 18,
   "id": "42855145-e848-407e-a44b-a20392417d90",
   "metadata": {},
   "outputs": [],
   "source": [
    "df_asia3 = df_asia2.head(7)"
   ]
  },
  {
   "cell_type": "code",
   "execution_count": 19,
   "id": "f2075b4f-5d0f-4f05-85f0-435cb82f755e",
   "metadata": {},
   "outputs": [
    {
     "name": "stdout",
     "output_type": "stream",
     "text": [
      "<class 'pandas.core.frame.DataFrame'>\n",
      "Index: 7 entries, 8 to 38\n",
      "Data columns (total 2 columns):\n",
      " #   Column          Non-Null Count  Dtype  \n",
      "---  ------          --------------  -----  \n",
      " 0   vehicle_weight  7 non-null      float64\n",
      " 1   model_year      7 non-null      int64  \n",
      "dtypes: float64(1), int64(1)\n",
      "memory usage: 168.0 bytes\n"
     ]
    }
   ],
   "source": [
    "df_asia3.info()"
   ]
  },
  {
   "cell_type": "code",
   "execution_count": 20,
   "id": "03e4dcc7-3fa0-4dd5-ac7f-eb4c1b09766d",
   "metadata": {},
   "outputs": [],
   "source": [
    "x= np.array(df_asia3)"
   ]
  },
  {
   "cell_type": "code",
   "execution_count": 21,
   "id": "0208ef2d-ae27-4ab5-93fe-cf53647df6cd",
   "metadata": {},
   "outputs": [
    {
     "data": {
      "text/plain": [
       "array([[2714.21930965, 2016.        ],\n",
       "       [2783.86897424, 2010.        ],\n",
       "       [3582.68736772, 2007.        ],\n",
       "       [2231.8081416 , 2011.        ],\n",
       "       [2659.43145076, 2016.        ],\n",
       "       [2844.22753389, 2014.        ],\n",
       "       [3761.99403819, 2019.        ]])"
      ]
     },
     "execution_count": 21,
     "metadata": {},
     "output_type": "execute_result"
    }
   ],
   "source": [
    "x"
   ]
  },
  {
   "cell_type": "code",
   "execution_count": 22,
   "id": "bc405363-3a9b-4054-8d12-2bd439d6972c",
   "metadata": {},
   "outputs": [],
   "source": [
    "xTx = x@x.T"
   ]
  },
  {
   "cell_type": "code",
   "execution_count": 23,
   "id": "5fd60f5f-e0cb-40ef-946b-b9ca5c1d471f",
   "metadata": {},
   "outputs": [
    {
     "data": {
      "text/plain": [
       "array([[11431242.46085133, 11608190.92541486, 13770311.23387465,\n",
       "        10111792.75336224, 11282536.19632532, 11780081.29349753,\n",
       "        14281180.86123177],\n",
       "       [11608190.92541486, 11790026.46575708, 14007802.20739725,\n",
       "        10255171.44187306, 11455668.70489329, 11966096.78727446,\n",
       "        14531088.48421337],\n",
       "       [13770311.23387465, 14007802.20739725, 16863697.77478558,\n",
       "        12031947.83608462, 13574023.463935  , 14232076.05656009,\n",
       "        17530181.51805091],\n",
       "       [10111792.75336224, 10255171.44187306, 12031947.83608462,\n",
       "         9025088.58092514,  9989516.7638366 , 10397924.16669749,\n",
       "        12456257.9230991 ],\n",
       "       [11282536.19632532, 11455668.70489329, 13574023.463935  ,\n",
       "         9989516.7638366 , 11136831.64128077, 11624252.15672766,\n",
       "        14075069.26273247],\n",
       "       [11780081.29349753, 11966096.78727446, 14232076.05656009,\n",
       "        10397924.16669749, 11624252.15672766, 12145826.2645139 ,\n",
       "        14766233.02574041],\n",
       "       [14281180.86123177, 14531088.48421337, 17530181.51805091,\n",
       "        12456257.9230991 , 14075069.26273247, 14766233.02574041,\n",
       "        18228960.14339381]])"
      ]
     },
     "execution_count": 23,
     "metadata": {},
     "output_type": "execute_result"
    }
   ],
   "source": [
    "xTx"
   ]
  },
  {
   "cell_type": "code",
   "execution_count": 24,
   "id": "b17ac87f-2c01-4d56-82d5-394bd331c954",
   "metadata": {},
   "outputs": [],
   "source": [
    "xTx_i = np.linalg.inv(xTx) #inverse of xTx"
   ]
  },
  {
   "cell_type": "code",
   "execution_count": 25,
   "id": "dae215f4-b906-4c9c-bbde-2b140b9cef69",
   "metadata": {},
   "outputs": [
    {
     "data": {
      "text/plain": [
       "array([[ 6.27784782e+08,  4.52348582e+08, -5.52589667e+08,\n",
       "        -5.04518657e+08, -1.36497506e+08, -9.70745174e+07,\n",
       "         2.07769569e+08],\n",
       "       [ 6.52427761e+08,  1.18496810e+09, -8.15933475e+08,\n",
       "        -7.54720098e+08, -7.08834488e+08,  2.53306835e+08,\n",
       "         1.86771033e+08],\n",
       "       [-4.82034184e+08, -5.85397198e+08,  3.79915957e+08,\n",
       "         6.66310906e+08,  1.18051009e+08, -1.47095872e+08,\n",
       "         5.16329750e+07],\n",
       "       [-4.86725764e+08, -5.86851309e+08,  7.06448581e+08,\n",
       "         6.82137781e+08,  2.06347119e+08, -3.29606193e+08,\n",
       "        -1.88697388e+08],\n",
       "       [-2.37576087e+08, -7.37561522e+08,  2.26902495e+08,\n",
       "         2.89910408e+08,  1.50145296e+08,  3.48995157e+08,\n",
       "        -4.08718420e+07],\n",
       "       [-2.28618838e+08,  1.97697960e+08, -2.05812130e+07,\n",
       "        -2.25519129e+08,  3.60824331e+08, -2.92220029e+06,\n",
       "        -8.08263491e+07],\n",
       "       [ 1.52870693e+08,  7.43387198e+07,  7.67225188e+07,\n",
       "        -1.51179749e+08,  9.23761238e+06, -2.62872552e+07,\n",
       "        -1.35338415e+08]])"
      ]
     },
     "execution_count": 25,
     "metadata": {},
     "output_type": "execute_result"
    }
   ],
   "source": [
    "xTx_i"
   ]
  },
  {
   "cell_type": "code",
   "execution_count": 26,
   "id": "becaed5d-b8ff-4715-beae-9d509dcb0adb",
   "metadata": {},
   "outputs": [],
   "source": [
    "y = np.array([1100, 1300, 800, 900, 1000, 1100, 1200])"
   ]
  },
  {
   "cell_type": "code",
   "execution_count": 27,
   "id": "b8f70b75-5cef-4f04-90f2-e6a434fac854",
   "metadata": {},
   "outputs": [],
   "source": [
    "xT = x.T\n",
    "XT_max = xT @ xTx_i"
   ]
  },
  {
   "cell_type": "code",
   "execution_count": 28,
   "id": "aafd7dd1-26fb-44cc-a583-d33cd311e161",
   "metadata": {},
   "outputs": [],
   "source": [
    "w = XT_max @ y"
   ]
  },
  {
   "cell_type": "code",
   "execution_count": 29,
   "id": "dad34516-b315-4d5f-b3d2-fcf774eace72",
   "metadata": {},
   "outputs": [
    {
     "data": {
      "text/plain": [
       "array([ 1.10015869, -0.09307861])"
      ]
     },
     "execution_count": 29,
     "metadata": {},
     "output_type": "execute_result"
    }
   ],
   "source": [
    "w"
   ]
  },
  {
   "cell_type": "code",
   "execution_count": 30,
   "id": "ef8740a2-f2f0-444f-860e-707e12d014e4",
   "metadata": {},
   "outputs": [
    {
     "data": {
      "text/plain": [
       "1.007080078125"
      ]
     },
     "execution_count": 30,
     "metadata": {},
     "output_type": "execute_result"
    }
   ],
   "source": [
    "w.sum()"
   ]
  },
  {
   "cell_type": "code",
   "execution_count": 31,
   "id": "1dc64bbb-9cdc-4ad6-b76a-7c1d70da7db1",
   "metadata": {},
   "outputs": [
    {
     "ename": "NameError",
     "evalue": "name 'homework1_mlzoomcamp' is not defined",
     "output_type": "error",
     "traceback": [
      "\u001b[1;31m---------------------------------------------------------------------------\u001b[0m",
      "\u001b[1;31mNameError\u001b[0m                                 Traceback (most recent call last)",
      "Cell \u001b[1;32mIn[31], line 1\u001b[0m\n\u001b[1;32m----> 1\u001b[0m homework1_mlzoomcamp\u001b[38;5;241m.\u001b[39mipynb, homework1_mlzoomcamp\u001b[38;5;241m.\u001b[39mipynb\n",
      "\u001b[1;31mNameError\u001b[0m: name 'homework1_mlzoomcamp' is not defined"
     ]
    }
   ],
   "source": []
  },
  {
   "cell_type": "code",
   "execution_count": null,
   "id": "a0b01ed9-6e50-4a8a-a3c5-3c76f3f62e6f",
   "metadata": {},
   "outputs": [],
   "source": []
  },
  {
   "cell_type": "code",
   "execution_count": null,
   "id": "22ed337d-f2cb-493b-9fb1-f20ee2847288",
   "metadata": {},
   "outputs": [],
   "source": []
  }
 ],
 "metadata": {
  "kernelspec": {
   "display_name": "Python 3 (ipykernel)",
   "language": "python",
   "name": "python3"
  },
  "language_info": {
   "codemirror_mode": {
    "name": "ipython",
    "version": 3
   },
   "file_extension": ".py",
   "mimetype": "text/x-python",
   "name": "python",
   "nbconvert_exporter": "python",
   "pygments_lexer": "ipython3",
   "version": "3.11.7"
  }
 },
 "nbformat": 4,
 "nbformat_minor": 5
}
